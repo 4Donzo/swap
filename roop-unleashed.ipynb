{
  "cells": [
    {
      "cell_type": "markdown",
      "metadata": {
        "id": "G9BdiCppV6AS"
      },
      "source": [
        "# Colab for roop-unleashed - Gradio version\n",
        "https://github.com/C0untFloyd/roop-unleashed\n"
      ]
    },
    {
      "cell_type": "markdown",
      "metadata": {
        "id": "CanIXgLJgaOj"
      },
      "source": [
        "Install CUDA V11.8 on Google Cloud Compute"
      ]
    },
    {
      "cell_type": "code",
      "execution_count": null,
      "metadata": {
        "id": "96GE4UgYg3Ej",
        "outputId": "c080edac-32da-4b37-c17b-246d8972fede",
        "colab": {
          "base_uri": "https://localhost:8080/"
        }
      },
      "outputs": [
        {
          "output_type": "stream",
          "name": "stdout",
          "text": [
            "\r0% [Working]\r            \rGet:1 https://cloud.r-project.org/bin/linux/ubuntu jammy-cran40/ InRelease [3,626 B]\n",
            "\r0% [Waiting for headers] [Waiting for headers] [1 InRelease 0 B/3,626 B 0%] [Connecting to r2u.stat.\r0% [Waiting for headers] [Waiting for headers] [Connecting to r2u.stat.illinois.edu (192.17.190.167)\r                                                                                                    \rHit:2 https://developer.download.nvidia.com/compute/cuda/repos/ubuntu2204/x86_64  InRelease\n",
            "\r0% [Waiting for headers] [Waiting for headers] [Connecting to r2u.stat.illinois.edu (192.17.190.167)\r                                                                                                    \rGet:3 http://security.ubuntu.com/ubuntu jammy-security InRelease [129 kB]\n",
            "\r0% [Waiting for headers] [3 InRelease 14.2 kB/129 kB 11%] [Connecting to r2u.stat.illinois.edu (192.\r                                                                                                    \rHit:4 http://archive.ubuntu.com/ubuntu jammy InRelease\n",
            "Get:5 http://archive.ubuntu.com/ubuntu jammy-updates InRelease [128 kB]\n",
            "Hit:6 https://ppa.launchpadcontent.net/deadsnakes/ppa/ubuntu jammy InRelease\n",
            "Hit:7 https://ppa.launchpadcontent.net/graphics-drivers/ppa/ubuntu jammy InRelease\n",
            "Hit:8 https://ppa.launchpadcontent.net/ubuntugis/ppa/ubuntu jammy InRelease\n",
            "Get:9 https://r2u.stat.illinois.edu/ubuntu jammy InRelease [6,555 B]\n",
            "Get:10 http://archive.ubuntu.com/ubuntu jammy-backports InRelease [127 kB]\n",
            "Get:11 http://security.ubuntu.com/ubuntu jammy-security/restricted amd64 Packages [3,364 kB]\n",
            "Get:12 http://archive.ubuntu.com/ubuntu jammy-updates/main amd64 Packages [2,755 kB]\n",
            "Get:13 https://r2u.stat.illinois.edu/ubuntu jammy/main all Packages [8,550 kB]\n",
            "Get:14 http://security.ubuntu.com/ubuntu jammy-security/universe amd64 Packages [1,226 kB]\n",
            "Get:15 http://security.ubuntu.com/ubuntu jammy-security/main amd64 Packages [2,469 kB]\n",
            "Get:16 http://archive.ubuntu.com/ubuntu jammy-updates/universe amd64 Packages [1,516 kB]\n",
            "Get:17 https://r2u.stat.illinois.edu/ubuntu jammy/main amd64 Packages [2,636 kB]\n",
            "Fetched 22.9 MB in 3s (7,271 kB/s)\n",
            "Reading package lists... Done\n",
            "W: Skipping acquire of configured file 'main/source/Sources' as repository 'https://r2u.stat.illinois.edu/ubuntu jammy InRelease' does not seem to provide it (sources.list entry misspelt?)\n",
            "Reading package lists... Done\n",
            "Building dependency tree... Done\n",
            "Reading state information... Done\n",
            "The following additional packages will be installed:\n",
            "  cuda-cccl-11-8 cuda-command-line-tools-11-8 cuda-compiler-11-8 cuda-cudart-11-8\n",
            "  cuda-cudart-dev-11-8 cuda-cuobjdump-11-8 cuda-cupti-11-8 cuda-cupti-dev-11-8 cuda-cuxxfilt-11-8\n",
            "  cuda-documentation-11-8 cuda-driver-dev-11-8 cuda-gdb-11-8 cuda-libraries-11-8\n",
            "  cuda-libraries-dev-11-8 cuda-memcheck-11-8 cuda-nsight-11-8 cuda-nsight-compute-11-8\n",
            "  cuda-nsight-systems-11-8 cuda-nvcc-11-8 cuda-nvdisasm-11-8 cuda-nvml-dev-11-8 cuda-nvprof-11-8\n",
            "  cuda-nvprune-11-8 cuda-nvrtc-11-8 cuda-nvrtc-dev-11-8 cuda-nvtx-11-8 cuda-nvvp-11-8\n",
            "  cuda-profiler-api-11-8 cuda-sanitizer-11-8 cuda-toolkit-11-8-config-common\n",
            "  cuda-toolkit-11-config-common cuda-tools-11-8 cuda-visual-tools-11-8 default-jre\n",
            "  default-jre-headless fonts-dejavu-core fonts-dejavu-extra gds-tools-11-8 libatk-wrapper-java\n",
            "  libatk-wrapper-java-jni libcublas-11-8 libcublas-dev-11-8 libcufft-11-8 libcufft-dev-11-8\n",
            "  libcufile-11-8 libcufile-dev-11-8 libcurand-11-8 libcurand-dev-11-8 libcusolver-11-8\n",
            "  libcusolver-dev-11-8 libcusparse-11-8 libcusparse-dev-11-8 libfontenc1 libnpp-11-8\n",
            "  libnpp-dev-11-8 libnvjpeg-11-8 libnvjpeg-dev-11-8 libtinfo5 libxcb-icccm4 libxcb-image0\n",
            "  libxcb-keysyms1 libxcb-render-util0 libxcb-util1 libxcb-xinerama0 libxcb-xinput0 libxcb-xkb1\n",
            "  libxkbcommon-x11-0 libxkbfile1 libxtst6 libxxf86dga1 nsight-compute-2022.3.0\n",
            "  nsight-systems-2022.4.2 openjdk-11-jre x11-utils\n",
            "Suggested packages:\n",
            "  mesa-utils\n",
            "The following NEW packages will be installed:\n",
            "  cuda-cccl-11-8 cuda-command-line-tools-11-8 cuda-compiler-11-8 cuda-cudart-11-8\n",
            "  cuda-cudart-dev-11-8 cuda-cuobjdump-11-8 cuda-cupti-11-8 cuda-cupti-dev-11-8 cuda-cuxxfilt-11-8\n",
            "  cuda-documentation-11-8 cuda-driver-dev-11-8 cuda-gdb-11-8 cuda-libraries-11-8\n",
            "  cuda-libraries-dev-11-8 cuda-memcheck-11-8 cuda-nsight-11-8 cuda-nsight-compute-11-8\n",
            "  cuda-nsight-systems-11-8 cuda-nvcc-11-8 cuda-nvdisasm-11-8 cuda-nvml-dev-11-8 cuda-nvprof-11-8\n",
            "  cuda-nvprune-11-8 cuda-nvrtc-11-8 cuda-nvrtc-dev-11-8 cuda-nvtx-11-8 cuda-nvvp-11-8\n",
            "  cuda-profiler-api-11-8 cuda-sanitizer-11-8 cuda-toolkit-11-8 cuda-toolkit-11-8-config-common\n",
            "  cuda-toolkit-11-config-common cuda-tools-11-8 cuda-visual-tools-11-8 default-jre\n",
            "  default-jre-headless fonts-dejavu-core fonts-dejavu-extra gds-tools-11-8 libatk-wrapper-java\n",
            "  libatk-wrapper-java-jni libcublas-11-8 libcublas-dev-11-8 libcufft-11-8 libcufft-dev-11-8\n",
            "  libcufile-11-8 libcufile-dev-11-8 libcurand-11-8 libcurand-dev-11-8 libcusolver-11-8\n",
            "  libcusolver-dev-11-8 libcusparse-11-8 libcusparse-dev-11-8 libfontenc1 libnpp-11-8\n",
            "  libnpp-dev-11-8 libnvjpeg-11-8 libnvjpeg-dev-11-8 libtinfo5 libxcb-icccm4 libxcb-image0\n",
            "  libxcb-keysyms1 libxcb-render-util0 libxcb-util1 libxcb-xinerama0 libxcb-xinput0 libxcb-xkb1\n",
            "  libxkbcommon-x11-0 libxkbfile1 libxtst6 libxxf86dga1 nsight-compute-2022.3.0\n",
            "  nsight-systems-2022.4.2 openjdk-11-jre x11-utils\n",
            "0 upgraded, 75 newly installed, 0 to remove and 50 not upgraded.\n",
            "Need to get 2,715 MB of archives.\n",
            "After this operation, 6,662 MB of additional disk space will be used.\n",
            "Get:1 https://developer.download.nvidia.com/compute/cuda/repos/ubuntu2204/x86_64  cuda-cccl-11-8 11.8.89-1 [1,040 kB]\n",
            "Get:2 http://archive.ubuntu.com/ubuntu jammy/main amd64 default-jre-headless amd64 2:1.11-72build2 [3,042 B]\n",
            "Get:3 https://developer.download.nvidia.com/compute/cuda/repos/ubuntu2204/x86_64  cuda-cupti-11-8 11.8.87-1 [15.4 MB]\n",
            "Get:4 http://archive.ubuntu.com/ubuntu jammy/main amd64 libxtst6 amd64 2:1.2.3-1build4 [13.4 kB]\n",
            "Get:5 http://archive.ubuntu.com/ubuntu jammy-updates/main amd64 openjdk-11-jre amd64 11.0.25+9-1ubuntu1~22.04 [216 kB]\n",
            "Get:6 https://developer.download.nvidia.com/compute/cuda/repos/ubuntu2204/x86_64  cuda-cupti-dev-11-8 11.8.87-1 [2,552 kB]\n",
            "Get:7 https://developer.download.nvidia.com/compute/cuda/repos/ubuntu2204/x86_64  cuda-nvdisasm-11-8 11.8.86-1 [50.8 MB]\n",
            "Get:8 http://archive.ubuntu.com/ubuntu jammy/main amd64 default-jre amd64 2:1.11-72build2 [896 B]\n",
            "Get:9 http://archive.ubuntu.com/ubuntu jammy-updates/universe amd64 libtinfo5 amd64 6.3-2ubuntu0.1 [100 kB]\n",
            "Get:10 http://archive.ubuntu.com/ubuntu jammy/main amd64 libxcb-xinerama0 amd64 1.14-3ubuntu3 [5,414 B]\n",
            "Get:11 http://archive.ubuntu.com/ubuntu jammy/main amd64 libxcb-icccm4 amd64 0.4.1-1.1build2 [11.5 kB]\n",
            "Get:12 http://archive.ubuntu.com/ubuntu jammy/main amd64 libxcb-util1 amd64 0.4.0-1build2 [11.4 kB]\n",
            "Get:13 http://archive.ubuntu.com/ubuntu jammy/main amd64 libxcb-image0 amd64 0.4.0-2 [11.5 kB]\n",
            "Get:14 http://archive.ubuntu.com/ubuntu jammy/main amd64 libxcb-keysyms1 amd64 0.4.0-1build3 [8,746 B]\n",
            "Get:15 http://archive.ubuntu.com/ubuntu jammy/main amd64 libxcb-render-util0 amd64 0.3.9-1build3 [10.3 kB]\n",
            "Get:16 http://archive.ubuntu.com/ubuntu jammy/main amd64 libxcb-xkb1 amd64 1.14-3ubuntu3 [32.8 kB]\n",
            "Get:17 http://archive.ubuntu.com/ubuntu jammy/main amd64 libxkbcommon-x11-0 amd64 1.4.0-1 [14.4 kB]\n",
            "Get:18 http://archive.ubuntu.com/ubuntu jammy/main amd64 libxcb-xinput0 amd64 1.14-3ubuntu3 [34.3 kB]\n",
            "Get:19 http://archive.ubuntu.com/ubuntu jammy/main amd64 fonts-dejavu-core all 2.37-2build1 [1,041 kB]\n",
            "Get:20 http://archive.ubuntu.com/ubuntu jammy/main amd64 fonts-dejavu-extra all 2.37-2build1 [2,041 kB]\n",
            "Get:21 http://archive.ubuntu.com/ubuntu jammy/main amd64 libfontenc1 amd64 1:1.1.4-1build3 [14.7 kB]\n",
            "Get:22 http://archive.ubuntu.com/ubuntu jammy/main amd64 libxkbfile1 amd64 1:1.1.0-1build3 [71.8 kB]\n",
            "Get:23 http://archive.ubuntu.com/ubuntu jammy/main amd64 libxxf86dga1 amd64 2:1.1.5-0ubuntu3 [12.6 kB]\n",
            "Get:24 http://archive.ubuntu.com/ubuntu jammy/main amd64 x11-utils amd64 7.7+5build2 [206 kB]\n",
            "Get:25 http://archive.ubuntu.com/ubuntu jammy/main amd64 libatk-wrapper-java all 0.38.0-5build1 [53.1 kB]\n",
            "Get:26 http://archive.ubuntu.com/ubuntu jammy/main amd64 libatk-wrapper-java-jni amd64 0.38.0-5build1 [49.0 kB]\n",
            "Get:27 https://developer.download.nvidia.com/compute/cuda/repos/ubuntu2204/x86_64  cuda-cuobjdump-11-8 11.8.86-1 [165 kB]\n",
            "Get:28 https://developer.download.nvidia.com/compute/cuda/repos/ubuntu2204/x86_64  cuda-gdb-11-8 11.8.86-1 [4,138 kB]\n",
            "Get:29 https://developer.download.nvidia.com/compute/cuda/repos/ubuntu2204/x86_64  cuda-memcheck-11-8 11.8.86-1 [142 kB]\n",
            "Get:30 https://developer.download.nvidia.com/compute/cuda/repos/ubuntu2204/x86_64  cuda-nvprof-11-8 11.8.87-1 [1,959 kB]\n",
            "Get:31 https://developer.download.nvidia.com/compute/cuda/repos/ubuntu2204/x86_64  cuda-nvtx-11-8 11.8.86-1 [51.3 kB]\n",
            "Get:32 https://developer.download.nvidia.com/compute/cuda/repos/ubuntu2204/x86_64  cuda-sanitizer-11-8 11.8.86-1 [8,784 kB]\n",
            "Get:33 https://developer.download.nvidia.com/compute/cuda/repos/ubuntu2204/x86_64  cuda-command-line-tools-11-8 11.8.0-1 [2,472 B]\n",
            "Get:34 https://developer.download.nvidia.com/compute/cuda/repos/ubuntu2204/x86_64  cuda-cuxxfilt-11-8 11.8.86-1 [189 kB]\n",
            "Get:35 https://developer.download.nvidia.com/compute/cuda/repos/ubuntu2204/x86_64  cuda-toolkit-11-config-common 11.8.89-1 [16.4 kB]\n",
            "Get:36 https://developer.download.nvidia.com/compute/cuda/repos/ubuntu2204/x86_64  cuda-toolkit-11-8-config-common 11.8.89-1 [16.3 kB]\n",
            "Get:37 https://developer.download.nvidia.com/compute/cuda/repos/ubuntu2204/x86_64  cuda-cudart-11-8 11.8.89-1 [165 kB]\n",
            "Get:38 https://developer.download.nvidia.com/compute/cuda/repos/ubuntu2204/x86_64  cuda-driver-dev-11-8 11.8.89-1 [27.3 kB]\n",
            "Get:39 https://developer.download.nvidia.com/compute/cuda/repos/ubuntu2204/x86_64  cuda-cudart-dev-11-8 11.8.89-1 [820 kB]\n",
            "Get:40 https://developer.download.nvidia.com/compute/cuda/repos/ubuntu2204/x86_64  cuda-nvcc-11-8 11.8.89-1 [43.5 MB]\n",
            "Get:41 https://developer.download.nvidia.com/compute/cuda/repos/ubuntu2204/x86_64  cuda-nvprune-11-8 11.8.86-1 [58.1 kB]\n",
            "Get:42 https://developer.download.nvidia.com/compute/cuda/repos/ubuntu2204/x86_64  cuda-compiler-11-8 11.8.0-1 [2,432 B]\n",
            "Get:43 https://developer.download.nvidia.com/compute/cuda/repos/ubuntu2204/x86_64  cuda-documentation-11-8 11.8.86-1 [49.8 kB]\n",
            "Get:44 https://developer.download.nvidia.com/compute/cuda/repos/ubuntu2204/x86_64  cuda-nvrtc-11-8 11.8.89-1 [16.4 MB]\n",
            "Get:45 https://developer.download.nvidia.com/compute/cuda/repos/ubuntu2204/x86_64  libcublas-11-8 11.11.3.6-1 [248 MB]\n",
            "Get:46 https://developer.download.nvidia.com/compute/cuda/repos/ubuntu2204/x86_64  libcufft-11-8 10.9.0.58-1 [94.2 MB]\n",
            "Get:47 https://developer.download.nvidia.com/compute/cuda/repos/ubuntu2204/x86_64  libcufile-11-8 1.4.0.31-1 [474 kB]\n",
            "Get:48 https://developer.download.nvidia.com/compute/cuda/repos/ubuntu2204/x86_64  libcurand-11-8 10.3.0.86-1 [42.2 MB]\n",
            "Get:49 https://developer.download.nvidia.com/compute/cuda/repos/ubuntu2204/x86_64  libcusolver-11-8 11.4.1.48-1 [52.3 MB]\n",
            "Get:50 https://developer.download.nvidia.com/compute/cuda/repos/ubuntu2204/x86_64  libcusparse-11-8 11.7.5.86-1 [116 MB]\n",
            "Get:51 https://developer.download.nvidia.com/compute/cuda/repos/ubuntu2204/x86_64  libnpp-11-8 11.8.0.86-1 [102 MB]\n",
            "Get:52 https://developer.download.nvidia.com/compute/cuda/repos/ubuntu2204/x86_64  libnvjpeg-11-8 11.9.0.86-1 [1,865 kB]\n",
            "Get:53 https://developer.download.nvidia.com/compute/cuda/repos/ubuntu2204/x86_64  cuda-libraries-11-8 11.8.0-1 [2,518 B]\n",
            "Get:54 https://developer.download.nvidia.com/compute/cuda/repos/ubuntu2204/x86_64  cuda-profiler-api-11-8 11.8.86-1 [18.5 kB]\n",
            "Get:55 https://developer.download.nvidia.com/compute/cuda/repos/ubuntu2204/x86_64  cuda-nvrtc-dev-11-8 11.8.89-1 [13.5 MB]\n",
            "Get:56 https://developer.download.nvidia.com/compute/cuda/repos/ubuntu2204/x86_64  libcublas-dev-11-8 11.11.3.6-1 [269 MB]\n",
            "Get:57 https://developer.download.nvidia.com/compute/cuda/repos/ubuntu2204/x86_64  libcufft-dev-11-8 10.9.0.58-1 [189 MB]\n",
            "Get:58 https://developer.download.nvidia.com/compute/cuda/repos/ubuntu2204/x86_64  libcufile-dev-11-8 1.4.0.31-1 [1,062 kB]\n",
            "Get:59 https://developer.download.nvidia.com/compute/cuda/repos/ubuntu2204/x86_64  libcurand-dev-11-8 10.3.0.86-1 [42.9 MB]\n",
            "Get:60 https://developer.download.nvidia.com/compute/cuda/repos/ubuntu2204/x86_64  libcusolver-dev-11-8 11.4.1.48-1 [35.7 MB]\n",
            "Get:61 https://developer.download.nvidia.com/compute/cuda/repos/ubuntu2204/x86_64  libcusparse-dev-11-8 11.7.5.86-1 [116 MB]\n",
            "Get:62 https://developer.download.nvidia.com/compute/cuda/repos/ubuntu2204/x86_64  libnpp-dev-11-8 11.8.0.86-1 [100 MB]\n",
            "Get:63 https://developer.download.nvidia.com/compute/cuda/repos/ubuntu2204/x86_64  libnvjpeg-dev-11-8 11.9.0.86-1 [1,536 kB]\n",
            "Get:64 https://developer.download.nvidia.com/compute/cuda/repos/ubuntu2204/x86_64  cuda-libraries-dev-11-8 11.8.0-1 [2,554 B]\n",
            "Get:65 https://developer.download.nvidia.com/compute/cuda/repos/ubuntu2204/x86_64  cuda-nsight-11-8 11.8.86-1 [119 MB]\n",
            "Get:66 https://developer.download.nvidia.com/compute/cuda/repos/ubuntu2204/x86_64  nsight-compute-2022.3.0 2022.3.0.22-1 [580 MB]\n",
            "Get:67 https://developer.download.nvidia.com/compute/cuda/repos/ubuntu2204/x86_64  cuda-nsight-compute-11-8 11.8.0-1 [3,790 B]\n",
            "Get:68 https://developer.download.nvidia.com/compute/cuda/repos/ubuntu2204/x86_64  nsight-systems-2022.4.2 2022.4.2.50-32196742v0 [286 MB]\n",
            "Get:69 https://developer.download.nvidia.com/compute/cuda/repos/ubuntu2204/x86_64  cuda-nsight-systems-11-8 11.8.0-1 [3,310 B]\n",
            "Get:70 https://developer.download.nvidia.com/compute/cuda/repos/ubuntu2204/x86_64  cuda-nvml-dev-11-8 11.8.86-1 [81.4 kB]\n",
            "Get:71 https://developer.download.nvidia.com/compute/cuda/repos/ubuntu2204/x86_64  cuda-nvvp-11-8 11.8.87-1 [114 MB]\n",
            "Get:72 https://developer.download.nvidia.com/compute/cuda/repos/ubuntu2204/x86_64  cuda-visual-tools-11-8 11.8.0-1 [2,870 B]\n",
            "Get:73 https://developer.download.nvidia.com/compute/cuda/repos/ubuntu2204/x86_64  gds-tools-11-8 1.4.0.31-1 [38.7 MB]\n",
            "Get:74 https://developer.download.nvidia.com/compute/cuda/repos/ubuntu2204/x86_64  cuda-tools-11-8 11.8.0-1 [2,390 B]\n",
            "Get:75 https://developer.download.nvidia.com/compute/cuda/repos/ubuntu2204/x86_64  cuda-toolkit-11-8 11.8.0-1 [3,374 B]\n",
            "Fetched 2,715 MB in 37s (72.4 MB/s)\n",
            "Extracting templates from packages: 100%\n",
            "Selecting previously unselected package cuda-cccl-11-8.\n",
            "(Reading database ... 123633 files and directories currently installed.)\n",
            "Preparing to unpack .../00-cuda-cccl-11-8_11.8.89-1_amd64.deb ...\n",
            "Unpacking cuda-cccl-11-8 (11.8.89-1) ...\n",
            "Selecting previously unselected package cuda-cupti-11-8.\n",
            "Preparing to unpack .../01-cuda-cupti-11-8_11.8.87-1_amd64.deb ...\n",
            "Unpacking cuda-cupti-11-8 (11.8.87-1) ...\n",
            "Selecting previously unselected package cuda-cupti-dev-11-8.\n",
            "Preparing to unpack .../02-cuda-cupti-dev-11-8_11.8.87-1_amd64.deb ...\n",
            "Unpacking cuda-cupti-dev-11-8 (11.8.87-1) ...\n",
            "Selecting previously unselected package cuda-nvdisasm-11-8.\n",
            "Preparing to unpack .../03-cuda-nvdisasm-11-8_11.8.86-1_amd64.deb ...\n",
            "Unpacking cuda-nvdisasm-11-8 (11.8.86-1) ...\n",
            "Selecting previously unselected package cuda-cuobjdump-11-8.\n",
            "Preparing to unpack .../04-cuda-cuobjdump-11-8_11.8.86-1_amd64.deb ...\n",
            "Unpacking cuda-cuobjdump-11-8 (11.8.86-1) ...\n",
            "Selecting previously unselected package cuda-gdb-11-8.\n",
            "Preparing to unpack .../05-cuda-gdb-11-8_11.8.86-1_amd64.deb ...\n",
            "Unpacking cuda-gdb-11-8 (11.8.86-1) ...\n",
            "Selecting previously unselected package cuda-memcheck-11-8.\n",
            "Preparing to unpack .../06-cuda-memcheck-11-8_11.8.86-1_amd64.deb ...\n",
            "Unpacking cuda-memcheck-11-8 (11.8.86-1) ...\n",
            "Selecting previously unselected package cuda-nvprof-11-8.\n",
            "Preparing to unpack .../07-cuda-nvprof-11-8_11.8.87-1_amd64.deb ...\n",
            "Unpacking cuda-nvprof-11-8 (11.8.87-1) ...\n",
            "Selecting previously unselected package cuda-nvtx-11-8.\n",
            "Preparing to unpack .../08-cuda-nvtx-11-8_11.8.86-1_amd64.deb ...\n",
            "Unpacking cuda-nvtx-11-8 (11.8.86-1) ...\n",
            "Selecting previously unselected package cuda-sanitizer-11-8.\n",
            "Preparing to unpack .../09-cuda-sanitizer-11-8_11.8.86-1_amd64.deb ...\n",
            "Unpacking cuda-sanitizer-11-8 (11.8.86-1) ...\n",
            "Selecting previously unselected package cuda-command-line-tools-11-8.\n",
            "Preparing to unpack .../10-cuda-command-line-tools-11-8_11.8.0-1_amd64.deb ...\n",
            "Unpacking cuda-command-line-tools-11-8 (11.8.0-1) ...\n",
            "Selecting previously unselected package cuda-cuxxfilt-11-8.\n",
            "Preparing to unpack .../11-cuda-cuxxfilt-11-8_11.8.86-1_amd64.deb ...\n",
            "Unpacking cuda-cuxxfilt-11-8 (11.8.86-1) ...\n",
            "Selecting previously unselected package cuda-toolkit-11-config-common.\n",
            "Preparing to unpack .../12-cuda-toolkit-11-config-common_11.8.89-1_all.deb ...\n",
            "Unpacking cuda-toolkit-11-config-common (11.8.89-1) ...\n",
            "Selecting previously unselected package cuda-toolkit-11-8-config-common.\n",
            "Preparing to unpack .../13-cuda-toolkit-11-8-config-common_11.8.89-1_all.deb ...\n",
            "Unpacking cuda-toolkit-11-8-config-common (11.8.89-1) ...\n",
            "Selecting previously unselected package cuda-cudart-11-8.\n",
            "Preparing to unpack .../14-cuda-cudart-11-8_11.8.89-1_amd64.deb ...\n",
            "Unpacking cuda-cudart-11-8 (11.8.89-1) ...\n",
            "Selecting previously unselected package cuda-driver-dev-11-8.\n",
            "Preparing to unpack .../15-cuda-driver-dev-11-8_11.8.89-1_amd64.deb ...\n",
            "Unpacking cuda-driver-dev-11-8 (11.8.89-1) ...\n",
            "Selecting previously unselected package cuda-cudart-dev-11-8.\n",
            "Preparing to unpack .../16-cuda-cudart-dev-11-8_11.8.89-1_amd64.deb ...\n",
            "Unpacking cuda-cudart-dev-11-8 (11.8.89-1) ...\n",
            "Selecting previously unselected package cuda-nvcc-11-8.\n",
            "Preparing to unpack .../17-cuda-nvcc-11-8_11.8.89-1_amd64.deb ...\n",
            "Unpacking cuda-nvcc-11-8 (11.8.89-1) ...\n",
            "Selecting previously unselected package cuda-nvprune-11-8.\n",
            "Preparing to unpack .../18-cuda-nvprune-11-8_11.8.86-1_amd64.deb ...\n",
            "Unpacking cuda-nvprune-11-8 (11.8.86-1) ...\n",
            "Selecting previously unselected package cuda-compiler-11-8.\n",
            "Preparing to unpack .../19-cuda-compiler-11-8_11.8.0-1_amd64.deb ...\n",
            "Unpacking cuda-compiler-11-8 (11.8.0-1) ...\n",
            "Selecting previously unselected package cuda-documentation-11-8.\n",
            "Preparing to unpack .../20-cuda-documentation-11-8_11.8.86-1_amd64.deb ...\n",
            "Unpacking cuda-documentation-11-8 (11.8.86-1) ...\n",
            "Selecting previously unselected package cuda-nvrtc-11-8.\n",
            "Preparing to unpack .../21-cuda-nvrtc-11-8_11.8.89-1_amd64.deb ...\n",
            "Unpacking cuda-nvrtc-11-8 (11.8.89-1) ...\n",
            "Selecting previously unselected package libcublas-11-8.\n",
            "Preparing to unpack .../22-libcublas-11-8_11.11.3.6-1_amd64.deb ...\n",
            "Unpacking libcublas-11-8 (11.11.3.6-1) ...\n",
            "Selecting previously unselected package libcufft-11-8.\n",
            "Preparing to unpack .../23-libcufft-11-8_10.9.0.58-1_amd64.deb ...\n",
            "Unpacking libcufft-11-8 (10.9.0.58-1) ...\n",
            "Selecting previously unselected package libcufile-11-8.\n",
            "Preparing to unpack .../24-libcufile-11-8_1.4.0.31-1_amd64.deb ...\n",
            "Unpacking libcufile-11-8 (1.4.0.31-1) ...\n",
            "Selecting previously unselected package libcurand-11-8.\n",
            "Preparing to unpack .../25-libcurand-11-8_10.3.0.86-1_amd64.deb ...\n",
            "Unpacking libcurand-11-8 (10.3.0.86-1) ...\n",
            "Selecting previously unselected package libcusolver-11-8.\n",
            "Preparing to unpack .../26-libcusolver-11-8_11.4.1.48-1_amd64.deb ...\n",
            "Unpacking libcusolver-11-8 (11.4.1.48-1) ...\n",
            "Selecting previously unselected package libcusparse-11-8.\n",
            "Preparing to unpack .../27-libcusparse-11-8_11.7.5.86-1_amd64.deb ...\n",
            "Unpacking libcusparse-11-8 (11.7.5.86-1) ...\n",
            "Selecting previously unselected package libnpp-11-8.\n",
            "Preparing to unpack .../28-libnpp-11-8_11.8.0.86-1_amd64.deb ...\n",
            "Unpacking libnpp-11-8 (11.8.0.86-1) ...\n",
            "Selecting previously unselected package libnvjpeg-11-8.\n",
            "Preparing to unpack .../29-libnvjpeg-11-8_11.9.0.86-1_amd64.deb ...\n",
            "Unpacking libnvjpeg-11-8 (11.9.0.86-1) ...\n",
            "Selecting previously unselected package cuda-libraries-11-8.\n",
            "Preparing to unpack .../30-cuda-libraries-11-8_11.8.0-1_amd64.deb ...\n",
            "Unpacking cuda-libraries-11-8 (11.8.0-1) ...\n",
            "Selecting previously unselected package cuda-profiler-api-11-8.\n",
            "Preparing to unpack .../31-cuda-profiler-api-11-8_11.8.86-1_amd64.deb ...\n",
            "Unpacking cuda-profiler-api-11-8 (11.8.86-1) ...\n",
            "Selecting previously unselected package cuda-nvrtc-dev-11-8.\n",
            "Preparing to unpack .../32-cuda-nvrtc-dev-11-8_11.8.89-1_amd64.deb ...\n",
            "Unpacking cuda-nvrtc-dev-11-8 (11.8.89-1) ...\n",
            "Selecting previously unselected package libcublas-dev-11-8.\n",
            "Preparing to unpack .../33-libcublas-dev-11-8_11.11.3.6-1_amd64.deb ...\n",
            "Unpacking libcublas-dev-11-8 (11.11.3.6-1) ...\n"
          ]
        }
      ],
      "source": [
        "!apt-get -y update\n",
        "!apt-get -y install cuda-toolkit-11-8\n",
        "import os\n",
        "os.environ[\"LD_LIBRARY_PATH\"] += \":\" + \"/usr/local/cuda-11/lib64\"\n",
        "os.environ[\"LD_LIBRARY_PATH\"] += \":\" + \"/usr/local/cuda-11.8/lib64\""
      ]
    },
    {
      "cell_type": "markdown",
      "metadata": {
        "id": "0ZYRNb0AWLLW"
      },
      "source": [
        "Installing & preparing requirements"
      ]
    },
    {
      "cell_type": "code",
      "execution_count": null,
      "metadata": {
        "id": "t1yPuhdySqCq"
      },
      "outputs": [],
      "source": [
        "!git clone https://github.com/C0untFloyd/roop-unleashed.git\n",
        "%cd roop-unleashed\n",
        "!mv config_colab.yaml config.yaml\n",
        "!pip install -r requirements.txt"
      ]
    },
    {
      "cell_type": "markdown",
      "metadata": {
        "id": "u_4JQiSlV9Fi"
      },
      "source": [
        "Running roop-unleashed with default config"
      ]
    },
    {
      "cell_type": "code",
      "execution_count": null,
      "metadata": {
        "id": "Is6U2huqSzLE"
      },
      "outputs": [],
      "source": [
        "!python run.py"
      ]
    },
    {
      "cell_type": "markdown",
      "metadata": {
        "id": "UdQ1VHdI8lCf"
      },
      "source": [
        "### Download generated images folder\n",
        "(only needed if you want to zip the generated output)"
      ]
    },
    {
      "cell_type": "code",
      "execution_count": null,
      "metadata": {
        "colab": {
          "base_uri": "https://localhost:8080/",
          "height": 17
        },
        "id": "oYjWveAmw10X",
        "outputId": "5b4c3650-f951-434a-c650-5525a8a70c1e"
      },
      "outputs": [
        {
          "data": {
            "application/javascript": "\n    async function download(id, filename, size) {\n      if (!google.colab.kernel.accessAllowed) {\n        return;\n      }\n      const div = document.createElement('div');\n      const label = document.createElement('label');\n      label.textContent = `Downloading \"${filename}\": `;\n      div.appendChild(label);\n      const progress = document.createElement('progress');\n      progress.max = size;\n      div.appendChild(progress);\n      document.body.appendChild(div);\n\n      const buffers = [];\n      let downloaded = 0;\n\n      const channel = await google.colab.kernel.comms.open(id);\n      // Send a message to notify the kernel that we're ready.\n      channel.send({})\n\n      for await (const message of channel.messages) {\n        // Send a message to notify the kernel that we're ready.\n        channel.send({})\n        if (message.buffers) {\n          for (const buffer of message.buffers) {\n            buffers.push(buffer);\n            downloaded += buffer.byteLength;\n            progress.value = downloaded;\n          }\n        }\n      }\n      const blob = new Blob(buffers, {type: 'application/binary'});\n      const a = document.createElement('a');\n      a.href = window.URL.createObjectURL(blob);\n      a.download = filename;\n      div.appendChild(a);\n      a.click();\n      div.remove();\n    }\n  ",
            "text/plain": [
              "<IPython.core.display.Javascript object>"
            ]
          },
          "metadata": {},
          "output_type": "display_data"
        },
        {
          "data": {
            "application/javascript": "download(\"download_789eab11-93d2-4880-adf3-6aceee0cc5f9\", \"fake_output.zip.zip\", 80125)",
            "text/plain": [
              "<IPython.core.display.Javascript object>"
            ]
          },
          "metadata": {},
          "output_type": "display_data"
        }
      ],
      "source": [
        "import shutil\n",
        "import os\n",
        "from google.colab import files\n",
        "\n",
        "def zip_directory(directory_path, zip_path):\n",
        "    shutil.make_archive(zip_path, 'zip', directory_path)\n",
        "\n",
        "# Set the directory path you want to download\n",
        "directory_path = '/content/roop-unleashed/output'\n",
        "\n",
        "# Set the zip file name\n",
        "zip_filename = 'fake_output.zip'\n",
        "\n",
        "# Zip the directory\n",
        "zip_directory(directory_path, zip_filename)\n",
        "\n",
        "# Download the zip file\n",
        "files.download(zip_filename+'.zip')\n"
      ]
    }
  ],
  "metadata": {
    "accelerator": "GPU",
    "colab": {
      "collapsed_sections": [
        "UdQ1VHdI8lCf"
      ],
      "gpuType": "T4",
      "provenance": []
    },
    "kernelspec": {
      "display_name": "Python 3",
      "name": "python3"
    },
    "language_info": {
      "name": "python"
    }
  },
  "nbformat": 4,
  "nbformat_minor": 0
}